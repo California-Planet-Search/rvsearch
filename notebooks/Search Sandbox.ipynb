{
 "cells": [
  {
   "cell_type": "code",
   "execution_count": 1,
   "metadata": {},
   "outputs": [
    {
     "name": "stderr",
     "output_type": "stream",
     "text": [
      "/Users/bjfulton/anaconda3/lib/python3.6/site-packages/emcee-2.2.1-py3.6.egg/emcee/ptsampler.py:36: DeprecationWarning: invalid escape sequence \\e\n",
      "/Users/bjfulton/anaconda3/lib/python3.6/importlib/_bootstrap.py:219: ImportWarning: can't resolve package from __spec__ or __package__, falling back on __name__ and __path__\n",
      "  return f(*args, **kwds)\n",
      "/Users/bjfulton/anaconda3/lib/python3.6/importlib/_bootstrap.py:219: ImportWarning: can't resolve package from __spec__ or __package__, falling back on __name__ and __path__\n",
      "  return f(*args, **kwds)\n"
     ]
    }
   ],
   "source": [
    "import rvsearch\n",
    "import imp\n",
    "import os\n",
    "\n",
    "os.chdir(os.path.join(os.environ['HOME'], 'Dropbox/workdir/lalande/'))"
   ]
  },
  {
   "cell_type": "code",
   "execution_count": 2,
   "metadata": {},
   "outputs": [
    {
     "name": "stdout",
     "output_type": "stream",
     "text": [
      "Summary\n",
      "filename = /Users/bjfulton/.cpsutils/mir3/vel/vst95735.dat\n",
      "template = b'rj122.671, rj122.672, rj122.673, rj122.674, rj122.675'\n",
      "nobs = 275\n",
      "first obs = 1997-06-03\n",
      "last obs = 2016-11-25\n",
      "timespan = 7115.3 days\n",
      "rms(mnvel) = 3.8 m/s \n",
      "median(errvel) = 1.0 m/s \n",
      "median(cts) = 56702.0 \n",
      "j\n",
      "Loading  /Users/bjfulton/.cpsutils/mir3/vel/vst95735.dat\n",
      "Removed 0 measurements due to low counts.\n",
      "Sigma-clipped 0 outliers\n",
      "apf\n",
      "Loading  /Users/bjfulton/.cpsutils/mir4/vel/vst95735.dat\n",
      "Summary\n",
      "filename = /Users/bjfulton/.cpsutils/mir4/vel/vst95735.dat\n",
      "template = b'rahy.231, rahy.232, rahy.233, rahy.234, rahy.235, rahy.236, rahy.237'\n",
      "nobs = 336\n",
      "first obs = 2013-07-27\n",
      "last obs = 2018-10-23\n",
      "timespan = 1914.3 days\n",
      "rms(mnvel) = 3.4 m/s \n",
      "median(errvel) = 2.2 m/s \n",
      "median(cts) = 6133.0 \n",
      "Removed 0 measurements due to low counts.\n",
      "Sigma-clipped 0 outliers\n",
      "102\n",
      "      jd  mnvel  errvel   bc  inst  time\n",
      "tel                                     \n",
      "apf  262    262     262  262   262   262\n",
      "j    142    142     142  142   142   142\n"
     ]
    }
   ],
   "source": [
    "P = imp.load_source('95735', pathname=os.environ['HOME']+'/Dropbox/workdir/lalande/HD95735.py')\n",
    "print(P.data.groupby('tel').count())\n",
    "# P.data = P.data.query('tel == \"j\"').reset_index()"
   ]
  },
  {
   "cell_type": "code",
   "execution_count": 3,
   "metadata": {},
   "outputs": [
    {
     "data": {
      "text/html": [
       "<div>\n",
       "<style scoped>\n",
       "    .dataframe tbody tr th:only-of-type {\n",
       "        vertical-align: middle;\n",
       "    }\n",
       "\n",
       "    .dataframe tbody tr th {\n",
       "        vertical-align: top;\n",
       "    }\n",
       "\n",
       "    .dataframe thead th {\n",
       "        text-align: right;\n",
       "    }\n",
       "</style>\n",
       "<table border=\"1\" class=\"dataframe\">\n",
       "  <thead>\n",
       "    <tr style=\"text-align: right;\">\n",
       "      <th></th>\n",
       "      <th>jd</th>\n",
       "      <th>mnvel</th>\n",
       "      <th>errvel</th>\n",
       "      <th>bc</th>\n",
       "      <th>inst</th>\n",
       "      <th>tel</th>\n",
       "      <th>time</th>\n",
       "    </tr>\n",
       "  </thead>\n",
       "  <tbody>\n",
       "    <tr>\n",
       "      <th>0</th>\n",
       "      <td>2.453339e+06</td>\n",
       "      <td>-2.296101</td>\n",
       "      <td>0.661362</td>\n",
       "      <td>26799.919466</td>\n",
       "      <td>b'j'</td>\n",
       "      <td>j</td>\n",
       "      <td>2.453339e+06</td>\n",
       "    </tr>\n",
       "    <tr>\n",
       "      <th>1</th>\n",
       "      <td>2.453340e+06</td>\n",
       "      <td>-0.467602</td>\n",
       "      <td>0.654619</td>\n",
       "      <td>26720.497856</td>\n",
       "      <td>b'j'</td>\n",
       "      <td>j</td>\n",
       "      <td>2.453340e+06</td>\n",
       "    </tr>\n",
       "    <tr>\n",
       "      <th>2</th>\n",
       "      <td>2.453369e+06</td>\n",
       "      <td>-1.591372</td>\n",
       "      <td>0.680581</td>\n",
       "      <td>21866.339879</td>\n",
       "      <td>b'j'</td>\n",
       "      <td>j</td>\n",
       "      <td>2.453369e+06</td>\n",
       "    </tr>\n",
       "    <tr>\n",
       "      <th>3</th>\n",
       "      <td>2.453370e+06</td>\n",
       "      <td>3.201198</td>\n",
       "      <td>0.721518</td>\n",
       "      <td>21586.176847</td>\n",
       "      <td>b'j'</td>\n",
       "      <td>j</td>\n",
       "      <td>2.453370e+06</td>\n",
       "    </tr>\n",
       "    <tr>\n",
       "      <th>4</th>\n",
       "      <td>2.453398e+06</td>\n",
       "      <td>0.381202</td>\n",
       "      <td>0.705533</td>\n",
       "      <td>11234.315868</td>\n",
       "      <td>b'j'</td>\n",
       "      <td>j</td>\n",
       "      <td>2.453398e+06</td>\n",
       "    </tr>\n",
       "  </tbody>\n",
       "</table>\n",
       "</div>"
      ],
      "text/plain": [
       "             jd     mnvel    errvel            bc  inst tel          time\n",
       "0  2.453339e+06 -2.296101  0.661362  26799.919466  b'j'   j  2.453339e+06\n",
       "1  2.453340e+06 -0.467602  0.654619  26720.497856  b'j'   j  2.453340e+06\n",
       "2  2.453369e+06 -1.591372  0.680581  21866.339879  b'j'   j  2.453369e+06\n",
       "3  2.453370e+06  3.201198  0.721518  21586.176847  b'j'   j  2.453370e+06\n",
       "4  2.453398e+06  0.381202  0.705533  11234.315868  b'j'   j  2.453398e+06"
      ]
     },
     "execution_count": 3,
     "metadata": {},
     "output_type": "execute_result"
    }
   ],
   "source": [
    "P.data.head()"
   ]
  },
  {
   "cell_type": "code",
   "execution_count": 4,
   "metadata": {},
   "outputs": [],
   "source": [
    "s = rvsearch.search.Search(P.data, starname='HD95735_search')"
   ]
  },
  {
   "cell_type": "code",
   "execution_count": null,
   "metadata": {
    "scrolled": true
   },
   "outputs": [
    {
     "name": "stdout",
     "output_type": "stream",
     "text": [
      "Number of test periods: 8120\n",
      "Calculating BIC periodogram\n"
     ]
    },
    {
     "name": "stderr",
     "output_type": "stream",
     "text": [
      "/Users/bjfulton/anaconda3/lib/python3.6/site-packages/scipy/optimize/optimize.py:1927: RuntimeWarning: invalid value encountered in double_scalars\n",
      "  tmp2 = (x - v) * (fx - fw)\n"
     ]
    },
    {
     "name": "stdout",
     "output_type": "stream",
     "text": [
      "Time = 1383.501017 seconds\n",
      "Number of test periods: 8120\n",
      "Calculating BIC periodogram\n"
     ]
    }
   ],
   "source": [
    "s.run_search()"
   ]
  },
  {
   "cell_type": "code",
   "execution_count": null,
   "metadata": {
    "collapsed": true
   },
   "outputs": [],
   "source": []
  }
 ],
 "metadata": {
  "kernelspec": {
   "display_name": "Python 3",
   "language": "python",
   "name": "python3"
  },
  "language_info": {
   "codemirror_mode": {
    "name": "ipython",
    "version": 3
   },
   "file_extension": ".py",
   "mimetype": "text/x-python",
   "name": "python",
   "nbconvert_exporter": "python",
   "pygments_lexer": "ipython3",
   "version": "3.6.6"
  }
 },
 "nbformat": 4,
 "nbformat_minor": 2
}
