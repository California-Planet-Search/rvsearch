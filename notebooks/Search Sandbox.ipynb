{
 "cells": [
  {
   "cell_type": "code",
   "execution_count": 1,
   "metadata": {},
   "outputs": [
    {
     "name": "stderr",
     "output_type": "stream",
     "text": [
      "/Users/bfulton/anaconda3/lib/python3.6/importlib/_bootstrap_external.py:426: ImportWarning: Not importing directory /Users/bfulton/anaconda3/lib/python3.6/site-packages/mpl_toolkits: missing __init__\n",
      "  _warnings.warn(msg.format(portions[0]), ImportWarning)\n",
      "/Users/bfulton/anaconda3/lib/python3.6/importlib/_bootstrap.py:219: ImportWarning: can't resolve package from __spec__ or __package__, falling back on __name__ and __path__\n",
      "  return f(*args, **kwds)\n",
      "/Users/bfulton/anaconda3/lib/python3.6/importlib/_bootstrap.py:219: ImportWarning: can't resolve package from __spec__ or __package__, falling back on __name__ and __path__\n",
      "  return f(*args, **kwds)\n"
     ]
    }
   ],
   "source": [
    "import rvsearch\n",
    "import imp\n"
   ]
  },
  {
   "cell_type": "code",
   "execution_count": 3,
   "metadata": {},
   "outputs": [
    {
     "name": "stdout",
     "output_type": "stream",
     "text": [
      "Summary\n",
      "filename = /Users/bfulton/.cpsutils/mir3/vel/vst95735.dat\n",
      "template = b'rj122.671, rj122.672, rj122.673, rj122.674, rj122.675'\n",
      "nobs = 275\n",
      "first obs = 1997-06-03\n",
      "last obs = 2016-11-25\n",
      "timespan = 7115.3 days\n",
      "rms(mnvel) = 3.8 m/s \n",
      "median(errvel) = 1.0 m/s \n",
      "median(cts) = 56702.0 \n",
      "j\n",
      "Loading  /Users/bfulton/.cpsutils/mir3/vel/vst95735.dat\n",
      "Removed 0 measurements due to low counts.\n",
      "Sigma-clipped 0 outliers\n",
      "apf\n",
      "Loading  /Users/bfulton/.cpsutils/mir4/vel/vst95735.dat\n",
      "Summary\n",
      "filename = /Users/bfulton/.cpsutils/mir4/vel/vst95735.dat\n",
      "template = b'rahy.231, rahy.232, rahy.233, rahy.234, rahy.235, rahy.236, rahy.237'\n",
      "nobs = 334\n",
      "first obs = 2013-07-27\n",
      "last obs = 2018-07-27\n",
      "timespan = 1826.0 days\n",
      "rms(mnvel) = 3.4 m/s \n",
      "median(errvel) = 2.2 m/s \n",
      "median(cts) = 6167.0 \n",
      "Removed 0 measurements due to low counts.\n",
      "Sigma-clipped 0 outliers\n",
      "102\n"
     ]
    }
   ],
   "source": [
    "P = imp.load_source('95735', pathname='/Users/bfulton/Dropbox/workdir/lalande/HD95735.py')\n",
    "P.data = P.data.iloc[-100:].reset_index()"
   ]
  },
  {
   "cell_type": "code",
   "execution_count": 7,
   "metadata": {},
   "outputs": [
    {
     "data": {
      "text/html": [
       "<div>\n",
       "<style scoped>\n",
       "    .dataframe tbody tr th:only-of-type {\n",
       "        vertical-align: middle;\n",
       "    }\n",
       "\n",
       "    .dataframe tbody tr th {\n",
       "        vertical-align: top;\n",
       "    }\n",
       "\n",
       "    .dataframe thead th {\n",
       "        text-align: right;\n",
       "    }\n",
       "</style>\n",
       "<table border=\"1\" class=\"dataframe\">\n",
       "  <thead>\n",
       "    <tr style=\"text-align: right;\">\n",
       "      <th></th>\n",
       "      <th>index</th>\n",
       "      <th>jd</th>\n",
       "      <th>mnvel</th>\n",
       "      <th>errvel</th>\n",
       "      <th>bc</th>\n",
       "      <th>inst</th>\n",
       "      <th>tel</th>\n",
       "      <th>time</th>\n",
       "    </tr>\n",
       "  </thead>\n",
       "  <tbody>\n",
       "    <tr>\n",
       "      <th>0</th>\n",
       "      <td>42</td>\n",
       "      <td>2.454280e+06</td>\n",
       "      <td>-0.468761</td>\n",
       "      <td>0.975977</td>\n",
       "      <td>-21899.185547</td>\n",
       "      <td>b'j'</td>\n",
       "      <td>j</td>\n",
       "      <td>2.454280e+06</td>\n",
       "    </tr>\n",
       "    <tr>\n",
       "      <th>1</th>\n",
       "      <td>43</td>\n",
       "      <td>2.454286e+06</td>\n",
       "      <td>-0.824174</td>\n",
       "      <td>1.148212</td>\n",
       "      <td>-20338.390625</td>\n",
       "      <td>b'j'</td>\n",
       "      <td>j</td>\n",
       "      <td>2.454286e+06</td>\n",
       "    </tr>\n",
       "    <tr>\n",
       "      <th>2</th>\n",
       "      <td>44</td>\n",
       "      <td>2.454295e+06</td>\n",
       "      <td>-0.016912</td>\n",
       "      <td>1.056361</td>\n",
       "      <td>-17596.787109</td>\n",
       "      <td>b'j'</td>\n",
       "      <td>j</td>\n",
       "      <td>2.454295e+06</td>\n",
       "    </tr>\n",
       "    <tr>\n",
       "      <th>3</th>\n",
       "      <td>45</td>\n",
       "      <td>2.454301e+06</td>\n",
       "      <td>1.032972</td>\n",
       "      <td>1.052995</td>\n",
       "      <td>-15525.488281</td>\n",
       "      <td>b'j'</td>\n",
       "      <td>j</td>\n",
       "      <td>2.454301e+06</td>\n",
       "    </tr>\n",
       "    <tr>\n",
       "      <th>4</th>\n",
       "      <td>46</td>\n",
       "      <td>2.454305e+06</td>\n",
       "      <td>-3.813422</td>\n",
       "      <td>1.182597</td>\n",
       "      <td>-14074.575195</td>\n",
       "      <td>b'j'</td>\n",
       "      <td>j</td>\n",
       "      <td>2.454305e+06</td>\n",
       "    </tr>\n",
       "  </tbody>\n",
       "</table>\n",
       "</div>"
      ],
      "text/plain": [
       "   index            jd     mnvel    errvel            bc  inst tel  \\\n",
       "0     42  2.454280e+06 -0.468761  0.975977 -21899.185547  b'j'   j   \n",
       "1     43  2.454286e+06 -0.824174  1.148212 -20338.390625  b'j'   j   \n",
       "2     44  2.454295e+06 -0.016912  1.056361 -17596.787109  b'j'   j   \n",
       "3     45  2.454301e+06  1.032972  1.052995 -15525.488281  b'j'   j   \n",
       "4     46  2.454305e+06 -3.813422  1.182597 -14074.575195  b'j'   j   \n",
       "\n",
       "           time  \n",
       "0  2.454280e+06  \n",
       "1  2.454286e+06  \n",
       "2  2.454295e+06  \n",
       "3  2.454301e+06  \n",
       "4  2.454305e+06  "
      ]
     },
     "execution_count": 7,
     "metadata": {},
     "output_type": "execute_result"
    }
   ],
   "source": [
    "P.data.head()"
   ]
  },
  {
   "cell_type": "code",
   "execution_count": 8,
   "metadata": {},
   "outputs": [],
   "source": [
    "s = rvsearch.search.Search(P.data, starname='HD95735')"
   ]
  },
  {
   "cell_type": "code",
   "execution_count": null,
   "metadata": {
    "scrolled": true
   },
   "outputs": [
    {
     "name": "stdout",
     "output_type": "stream",
     "text": [
      "Number of test periods: 2750\n",
      "Calculating BIC periodogram\n"
     ]
    },
    {
     "name": "stderr",
     "output_type": "stream",
     "text": [
      "/Users/bfulton/anaconda3/lib/python3.6/site-packages/scipy/optimize/optimize.py:1927: RuntimeWarning: invalid value encountered in double_scalars\n",
      "  tmp2 = (x - v) * (fx - fw)\n"
     ]
    }
   ],
   "source": [
    "s.run_search()"
   ]
  },
  {
   "cell_type": "code",
   "execution_count": null,
   "metadata": {
    "collapsed": true
   },
   "outputs": [],
   "source": []
  }
 ],
 "metadata": {
  "kernelspec": {
   "display_name": "Python 3",
   "language": "python",
   "name": "python3"
  },
  "language_info": {
   "codemirror_mode": {
    "name": "ipython",
    "version": 3
   },
   "file_extension": ".py",
   "mimetype": "text/x-python",
   "name": "python",
   "nbconvert_exporter": "python",
   "pygments_lexer": "ipython3",
   "version": "3.6.3"
  }
 },
 "nbformat": 4,
 "nbformat_minor": 2
}
