{
 "cells": [
  {
   "cell_type": "code",
   "execution_count": 1,
   "metadata": {},
   "outputs": [
    {
     "name": "stderr",
     "output_type": "stream",
     "text": [
      "/Users/bfulton/anaconda3/lib/python3.6/importlib/_bootstrap_external.py:426: ImportWarning: Not importing directory /Users/bfulton/anaconda3/lib/python3.6/site-packages/mpl_toolkits: missing __init__\n",
      "  _warnings.warn(msg.format(portions[0]), ImportWarning)\n",
      "/Users/bfulton/anaconda3/lib/python3.6/importlib/_bootstrap.py:219: ImportWarning: can't resolve package from __spec__ or __package__, falling back on __name__ and __path__\n",
      "  return f(*args, **kwds)\n",
      "/Users/bfulton/anaconda3/lib/python3.6/importlib/_bootstrap.py:219: ImportWarning: can't resolve package from __spec__ or __package__, falling back on __name__ and __path__\n",
      "  return f(*args, **kwds)\n"
     ]
    }
   ],
   "source": [
    "import rvsearch\n",
    "import imp\n"
   ]
  },
  {
   "cell_type": "code",
   "execution_count": 2,
   "metadata": {},
   "outputs": [
    {
     "name": "stdout",
     "output_type": "stream",
     "text": [
      "Summary\n",
      "filename = /Users/bfulton/.cpsutils/mir3/vel/vst95735.dat\n",
      "template = b'rj122.671, rj122.672, rj122.673, rj122.674, rj122.675'\n",
      "nobs = 275\n",
      "first obs = 1997-06-03\n",
      "last obs = 2016-11-25\n",
      "timespan = 7115.3 days\n",
      "rms(mnvel) = 3.8 m/s \n",
      "median(errvel) = 1.0 m/s \n",
      "median(cts) = 56702.0 \n",
      "j\n",
      "Loading  /Users/bfulton/.cpsutils/mir3/vel/vst95735.dat\n",
      "Removed 0 measurements due to low counts.\n",
      "Sigma-clipped 0 outliers\n",
      "apf\n",
      "Loading  /Users/bfulton/.cpsutils/mir4/vel/vst95735.dat\n",
      "Summary\n",
      "filename = /Users/bfulton/.cpsutils/mir4/vel/vst95735.dat\n",
      "template = b'rahy.231, rahy.232, rahy.233, rahy.234, rahy.235, rahy.236, rahy.237'\n",
      "nobs = 334\n",
      "first obs = 2013-07-27\n",
      "last obs = 2018-07-27\n",
      "timespan = 1826.0 days\n",
      "rms(mnvel) = 3.4 m/s \n",
      "median(errvel) = 2.2 m/s \n",
      "median(cts) = 6167.0 \n",
      "Removed 0 measurements due to low counts.\n",
      "Sigma-clipped 0 outliers\n",
      "102\n"
     ]
    }
   ],
   "source": [
    "P = imp.load_source('95735', pathname='/Users/bfulton/Dropbox/workdir/lalande/HD95735.py')\n",
    "P.data = P.data.iloc[-40:].reset_index()"
   ]
  },
  {
   "cell_type": "code",
   "execution_count": 3,
   "metadata": {},
   "outputs": [
    {
     "data": {
      "text/html": [
       "<div>\n",
       "<style scoped>\n",
       "    .dataframe tbody tr th:only-of-type {\n",
       "        vertical-align: middle;\n",
       "    }\n",
       "\n",
       "    .dataframe tbody tr th {\n",
       "        vertical-align: top;\n",
       "    }\n",
       "\n",
       "    .dataframe thead th {\n",
       "        text-align: right;\n",
       "    }\n",
       "</style>\n",
       "<table border=\"1\" class=\"dataframe\">\n",
       "  <thead>\n",
       "    <tr style=\"text-align: right;\">\n",
       "      <th></th>\n",
       "      <th>index</th>\n",
       "      <th>jd</th>\n",
       "      <th>mnvel</th>\n",
       "      <th>errvel</th>\n",
       "      <th>bc</th>\n",
       "      <th>inst</th>\n",
       "      <th>tel</th>\n",
       "      <th>time</th>\n",
       "    </tr>\n",
       "  </thead>\n",
       "  <tbody>\n",
       "    <tr>\n",
       "      <th>0</th>\n",
       "      <td>102</td>\n",
       "      <td>2.456146e+06</td>\n",
       "      <td>1.639242</td>\n",
       "      <td>1.268710</td>\n",
       "      <td>-8267.405273</td>\n",
       "      <td>b'j'</td>\n",
       "      <td>j</td>\n",
       "      <td>2.456146e+06</td>\n",
       "    </tr>\n",
       "    <tr>\n",
       "      <th>1</th>\n",
       "      <td>103</td>\n",
       "      <td>2.456447e+06</td>\n",
       "      <td>1.625281</td>\n",
       "      <td>1.054184</td>\n",
       "      <td>-25879.964844</td>\n",
       "      <td>b'j'</td>\n",
       "      <td>j</td>\n",
       "      <td>2.456447e+06</td>\n",
       "    </tr>\n",
       "    <tr>\n",
       "      <th>2</th>\n",
       "      <td>104</td>\n",
       "      <td>2.456449e+06</td>\n",
       "      <td>-2.221616</td>\n",
       "      <td>1.100271</td>\n",
       "      <td>-25767.972656</td>\n",
       "      <td>b'j'</td>\n",
       "      <td>j</td>\n",
       "      <td>2.456449e+06</td>\n",
       "    </tr>\n",
       "    <tr>\n",
       "      <th>3</th>\n",
       "      <td>105</td>\n",
       "      <td>2.456450e+06</td>\n",
       "      <td>-1.146830</td>\n",
       "      <td>1.090453</td>\n",
       "      <td>-25651.136719</td>\n",
       "      <td>b'j'</td>\n",
       "      <td>j</td>\n",
       "      <td>2.456450e+06</td>\n",
       "    </tr>\n",
       "    <tr>\n",
       "      <th>4</th>\n",
       "      <td>106</td>\n",
       "      <td>2.456451e+06</td>\n",
       "      <td>-0.832885</td>\n",
       "      <td>0.971835</td>\n",
       "      <td>-25570.564453</td>\n",
       "      <td>b'j'</td>\n",
       "      <td>j</td>\n",
       "      <td>2.456451e+06</td>\n",
       "    </tr>\n",
       "  </tbody>\n",
       "</table>\n",
       "</div>"
      ],
      "text/plain": [
       "   index            jd     mnvel    errvel            bc  inst tel  \\\n",
       "0    102  2.456146e+06  1.639242  1.268710  -8267.405273  b'j'   j   \n",
       "1    103  2.456447e+06  1.625281  1.054184 -25879.964844  b'j'   j   \n",
       "2    104  2.456449e+06 -2.221616  1.100271 -25767.972656  b'j'   j   \n",
       "3    105  2.456450e+06 -1.146830  1.090453 -25651.136719  b'j'   j   \n",
       "4    106  2.456451e+06 -0.832885  0.971835 -25570.564453  b'j'   j   \n",
       "\n",
       "           time  \n",
       "0  2.456146e+06  \n",
       "1  2.456447e+06  \n",
       "2  2.456449e+06  \n",
       "3  2.456450e+06  \n",
       "4  2.456451e+06  "
      ]
     },
     "execution_count": 3,
     "metadata": {},
     "output_type": "execute_result"
    }
   ],
   "source": [
    "P.data.head()"
   ]
  },
  {
   "cell_type": "code",
   "execution_count": 4,
   "metadata": {},
   "outputs": [],
   "source": [
    "s = rvsearch.search.Search(P.data, starname='HD95735')"
   ]
  },
  {
   "cell_type": "code",
   "execution_count": 5,
   "metadata": {
    "scrolled": true
   },
   "outputs": [
    {
     "name": "stdout",
     "output_type": "stream",
     "text": [
      "Number of test periods: 1257\n",
      "Calculating BIC periodogram\n"
     ]
    },
    {
     "name": "stderr",
     "output_type": "stream",
     "text": [
      "/Users/bfulton/anaconda3/lib/python3.6/site-packages/scipy/optimize/optimize.py:1927: RuntimeWarning: invalid value encountered in double_scalars\n",
      "  tmp2 = (x - v) * (fx - fw)\n"
     ]
    },
    {
     "name": "stdout",
     "output_type": "stream",
     "text": [
      "Time = 115.747635 seconds\n"
     ]
    },
    {
     "ename": "ValueError",
     "evalue": "max() arg is an empty sequence",
     "output_type": "error",
     "traceback": [
      "\u001b[0;31m---------------------------------------------------------------------------\u001b[0m",
      "\u001b[0;31mValueError\u001b[0m                                Traceback (most recent call last)",
      "\u001b[0;32m<ipython-input-5-0de344e89cf3>\u001b[0m in \u001b[0;36m<module>\u001b[0;34m()\u001b[0m\n\u001b[0;32m----> 1\u001b[0;31m \u001b[0ms\u001b[0m\u001b[0;34m.\u001b[0m\u001b[0mrun_search\u001b[0m\u001b[0;34m(\u001b[0m\u001b[0;34m)\u001b[0m\u001b[0;34m\u001b[0m\u001b[0m\n\u001b[0m",
      "\u001b[0;32m~/Dropbox/code/radvel-search/rvsearch/search.py\u001b[0m in \u001b[0;36mrun_search\u001b[0;34m(self)\u001b[0m\n\u001b[1;32m    277\u001b[0m         \u001b[0;32mif\u001b[0m \u001b[0;32mnot\u001b[0m \u001b[0mos\u001b[0m\u001b[0;34m.\u001b[0m\u001b[0mpath\u001b[0m\u001b[0;34m.\u001b[0m\u001b[0mexists\u001b[0m\u001b[0;34m(\u001b[0m\u001b[0moutdir\u001b[0m\u001b[0;34m)\u001b[0m\u001b[0;34m:\u001b[0m\u001b[0;34m\u001b[0m\u001b[0m\n\u001b[1;32m    278\u001b[0m             \u001b[0mos\u001b[0m\u001b[0;34m.\u001b[0m\u001b[0mmkdir\u001b[0m\u001b[0;34m(\u001b[0m\u001b[0moutdir\u001b[0m\u001b[0;34m)\u001b[0m\u001b[0;34m\u001b[0m\u001b[0m\n\u001b[0;32m--> 279\u001b[0;31m         rvplot = orbit_plots.MultipanelPlot(self.post,\n\u001b[0m\u001b[1;32m    280\u001b[0m                                             saveplot=outdir+'/orbit_plot.pdf')\n\u001b[1;32m    281\u001b[0m         \u001b[0mmultiplot_fig\u001b[0m\u001b[0;34m,\u001b[0m \u001b[0max_list\u001b[0m \u001b[0;34m=\u001b[0m \u001b[0mrvplot\u001b[0m\u001b[0;34m.\u001b[0m\u001b[0mplot_multipanel\u001b[0m\u001b[0;34m(\u001b[0m\u001b[0;34m)\u001b[0m\u001b[0;34m\u001b[0m\u001b[0m\n",
      "\u001b[0;32m~/anaconda3/lib/python3.6/site-packages/radvel/plot/orbit_plots.py\u001b[0m in \u001b[0;36m__init__\u001b[0;34m(self, post, saveplot, epoch, yscale_auto, yscale_sigma, phase_nrows, phase_ncols, uparams, telfmts, legend, phase_limits, nobin, phasetext_size, rv_phase_space, figwidth, fit_linewidth, set_xlim, text_size, legend_kwargs)\u001b[0m\n\u001b[1;32m    117\u001b[0m         \u001b[0;32mfor\u001b[0m \u001b[0mi\u001b[0m \u001b[0;32min\u001b[0m \u001b[0mrange\u001b[0m\u001b[0;34m(\u001b[0m\u001b[0mself\u001b[0m\u001b[0;34m.\u001b[0m\u001b[0mnum_planets\u001b[0m\u001b[0;34m)\u001b[0m\u001b[0;34m:\u001b[0m\u001b[0;34m\u001b[0m\u001b[0m\n\u001b[1;32m    118\u001b[0m             \u001b[0mperiods\u001b[0m\u001b[0;34m.\u001b[0m\u001b[0mappend\u001b[0m\u001b[0;34m(\u001b[0m\u001b[0msynthparams\u001b[0m\u001b[0;34m[\u001b[0m\u001b[0;34m'per%d'\u001b[0m \u001b[0;34m%\u001b[0m \u001b[0;34m(\u001b[0m\u001b[0mi\u001b[0m\u001b[0;34m+\u001b[0m\u001b[0;36m1\u001b[0m\u001b[0;34m)\u001b[0m\u001b[0;34m]\u001b[0m\u001b[0;34m.\u001b[0m\u001b[0mvalue\u001b[0m\u001b[0;34m)\u001b[0m\u001b[0;34m\u001b[0m\u001b[0m\n\u001b[0;32m--> 119\u001b[0;31m         \u001b[0mlongp\u001b[0m \u001b[0;34m=\u001b[0m \u001b[0mmax\u001b[0m\u001b[0;34m(\u001b[0m\u001b[0mperiods\u001b[0m\u001b[0;34m)\u001b[0m\u001b[0;34m\u001b[0m\u001b[0m\n\u001b[0m\u001b[1;32m    120\u001b[0m \u001b[0;34m\u001b[0m\u001b[0m\n\u001b[1;32m    121\u001b[0m \u001b[0;34m\u001b[0m\u001b[0m\n",
      "\u001b[0;31mValueError\u001b[0m: max() arg is an empty sequence"
     ]
    },
    {
     "data": {
      "image/png": "[encoded data removed]",
      "text/plain": [
       "<Figure size 432x288 with 1 Axes>"
      ]
     },
     "metadata": {},
     "output_type": "display_data"
    }
   ],
   "source": [
    "s.run_search()"
   ]
  },
  {
   "cell_type": "code",
   "execution_count": null,
   "metadata": {
    "collapsed": true
   },
   "outputs": [],
   "source": []
  }
 ],
 "metadata": {
  "kernelspec": {
   "display_name": "Python 3",
   "language": "python",
   "name": "python3"
  },
  "language_info": {
   "codemirror_mode": {
    "name": "ipython",
    "version": 3
   },
   "file_extension": ".py",
   "mimetype": "text/x-python",
   "name": "python",
   "nbconvert_exporter": "python",
   "pygments_lexer": "ipython3",
   "version": "3.6.3"
  }
 },
 "nbformat": 4,
 "nbformat_minor": 2
}
