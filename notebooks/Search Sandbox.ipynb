{
 "cells": [
  {
   "cell_type": "code",
   "execution_count": 6,
   "metadata": {},
   "outputs": [],
   "source": [
    "import rvsearch\n",
    "import imp\n"
   ]
  },
  {
   "cell_type": "code",
   "execution_count": 15,
   "metadata": {},
   "outputs": [
    {
     "name": "stdout",
     "output_type": "stream",
     "text": [
      "Summary\n",
      "filename = /Users/bfulton/.cpsutils/mir3/vel/vst95735.dat\n",
      "template = b'rj122.671, rj122.672, rj122.673, rj122.674, rj122.675'\n",
      "nobs = 275\n",
      "first obs = 1997-06-03\n",
      "last obs = 2016-11-25\n",
      "timespan = 7115.3 days\n",
      "rms(mnvel) = 3.8 m/s \n",
      "median(errvel) = 1.0 m/s \n",
      "median(cts) = 56702.0 \n",
      "j\n",
      "Loading  /Users/bfulton/.cpsutils/mir3/vel/vst95735.dat\n",
      "Removed 0 measurements due to low counts.\n",
      "Sigma-clipped 0 outliers\n",
      "apf\n",
      "Loading  /Users/bfulton/.cpsutils/mir4/vel/vst95735.dat\n",
      "Summary\n",
      "filename = /Users/bfulton/.cpsutils/mir4/vel/vst95735.dat\n",
      "template = b'rahy.231, rahy.232, rahy.233, rahy.234, rahy.235, rahy.236, rahy.237'\n",
      "nobs = 334\n",
      "first obs = 2013-07-27\n",
      "last obs = 2018-07-27\n",
      "timespan = 1826.0 days\n",
      "rms(mnvel) = 3.4 m/s \n",
      "median(errvel) = 2.2 m/s \n",
      "median(cts) = 6167.0 \n",
      "Removed 0 measurements due to low counts.\n",
      "Sigma-clipped 0 outliers\n",
      "102\n"
     ]
    }
   ],
   "source": [
    "P = imp.load_source('95735', pathname='/Users/bfulton/Dropbox/workdir/lalande/HD95735.py')"
   ]
  },
  {
   "cell_type": "code",
   "execution_count": 16,
   "metadata": {},
   "outputs": [
    {
     "data": {
      "text/html": [
       "<div>\n",
       "<style scoped>\n",
       "    .dataframe tbody tr th:only-of-type {\n",
       "        vertical-align: middle;\n",
       "    }\n",
       "\n",
       "    .dataframe tbody tr th {\n",
       "        vertical-align: top;\n",
       "    }\n",
       "\n",
       "    .dataframe thead th {\n",
       "        text-align: right;\n",
       "    }\n",
       "</style>\n",
       "<table border=\"1\" class=\"dataframe\">\n",
       "  <thead>\n",
       "    <tr style=\"text-align: right;\">\n",
       "      <th></th>\n",
       "      <th>jd</th>\n",
       "      <th>mnvel</th>\n",
       "      <th>errvel</th>\n",
       "      <th>bc</th>\n",
       "      <th>inst</th>\n",
       "      <th>tel</th>\n",
       "      <th>time</th>\n",
       "    </tr>\n",
       "  </thead>\n",
       "  <tbody>\n",
       "    <tr>\n",
       "      <th>0</th>\n",
       "      <td>2.453339e+06</td>\n",
       "      <td>-2.296101</td>\n",
       "      <td>0.661362</td>\n",
       "      <td>26799.919466</td>\n",
       "      <td>b'j'</td>\n",
       "      <td>j</td>\n",
       "      <td>2.453339e+06</td>\n",
       "    </tr>\n",
       "    <tr>\n",
       "      <th>1</th>\n",
       "      <td>2.453340e+06</td>\n",
       "      <td>-0.467602</td>\n",
       "      <td>0.654619</td>\n",
       "      <td>26720.497856</td>\n",
       "      <td>b'j'</td>\n",
       "      <td>j</td>\n",
       "      <td>2.453340e+06</td>\n",
       "    </tr>\n",
       "    <tr>\n",
       "      <th>2</th>\n",
       "      <td>2.453369e+06</td>\n",
       "      <td>-1.591372</td>\n",
       "      <td>0.680581</td>\n",
       "      <td>21866.339879</td>\n",
       "      <td>b'j'</td>\n",
       "      <td>j</td>\n",
       "      <td>2.453369e+06</td>\n",
       "    </tr>\n",
       "    <tr>\n",
       "      <th>3</th>\n",
       "      <td>2.453370e+06</td>\n",
       "      <td>3.201198</td>\n",
       "      <td>0.721518</td>\n",
       "      <td>21586.176847</td>\n",
       "      <td>b'j'</td>\n",
       "      <td>j</td>\n",
       "      <td>2.453370e+06</td>\n",
       "    </tr>\n",
       "    <tr>\n",
       "      <th>4</th>\n",
       "      <td>2.453398e+06</td>\n",
       "      <td>0.381202</td>\n",
       "      <td>0.705533</td>\n",
       "      <td>11234.315868</td>\n",
       "      <td>b'j'</td>\n",
       "      <td>j</td>\n",
       "      <td>2.453398e+06</td>\n",
       "    </tr>\n",
       "  </tbody>\n",
       "</table>\n",
       "</div>"
      ],
      "text/plain": [
       "             jd     mnvel    errvel            bc  inst tel          time\n",
       "0  2.453339e+06 -2.296101  0.661362  26799.919466  b'j'   j  2.453339e+06\n",
       "1  2.453340e+06 -0.467602  0.654619  26720.497856  b'j'   j  2.453340e+06\n",
       "2  2.453369e+06 -1.591372  0.680581  21866.339879  b'j'   j  2.453369e+06\n",
       "3  2.453370e+06  3.201198  0.721518  21586.176847  b'j'   j  2.453370e+06\n",
       "4  2.453398e+06  0.381202  0.705533  11234.315868  b'j'   j  2.453398e+06"
      ]
     },
     "execution_count": 16,
     "metadata": {},
     "output_type": "execute_result"
    }
   ],
   "source": [
    "P.data.head(5)"
   ]
  },
  {
   "cell_type": "code",
   "execution_count": 17,
   "metadata": {},
   "outputs": [],
   "source": [
    "s = rvsearch.search.Search(P.data, starname='HD95735')"
   ]
  },
  {
   "cell_type": "code",
   "execution_count": 14,
   "metadata": {
    "scrolled": true
   },
   "outputs": [
    {
     "name": "stdout",
     "output_type": "stream",
     "text": [
      "Number of test periods: 3503\n",
      "Calculating BIC periodogram\n"
     ]
    },
    {
     "ename": "KeyError",
     "evalue": "'secosw1'",
     "output_type": "error",
     "traceback": [
      "\u001b[0;31m---------------------------------------------------------------------------\u001b[0m",
      "\u001b[0;31mKeyError\u001b[0m                                  Traceback (most recent call last)",
      "\u001b[0;32m<ipython-input-14-0de344e89cf3>\u001b[0m in \u001b[0;36m<module>\u001b[0;34m()\u001b[0m\n\u001b[0;32m----> 1\u001b[0;31m \u001b[0ms\u001b[0m\u001b[0;34m.\u001b[0m\u001b[0mrun_search\u001b[0m\u001b[0;34m(\u001b[0m\u001b[0;34m)\u001b[0m\u001b[0;34m\u001b[0m\u001b[0m\n\u001b[0m",
      "\u001b[0;32m~/Dropbox/code/radvel-search/rvsearch/search.py\u001b[0m in \u001b[0;36mrun_search\u001b[0;34m(self)\u001b[0m\n\u001b[1;32m    254\u001b[0m             \u001b[0;31m# pdb.set_trace()\u001b[0m\u001b[0;34m\u001b[0m\u001b[0;34m\u001b[0m\u001b[0m\n\u001b[1;32m    255\u001b[0m             \u001b[0mt1\u001b[0m \u001b[0;34m=\u001b[0m \u001b[0mtime\u001b[0m\u001b[0;34m.\u001b[0m\u001b[0mprocess_time\u001b[0m\u001b[0;34m(\u001b[0m\u001b[0;34m)\u001b[0m\u001b[0;34m\u001b[0m\u001b[0m\n\u001b[0;32m--> 256\u001b[0;31m             \u001b[0mperioder\u001b[0m\u001b[0;34m.\u001b[0m\u001b[0mper_bic\u001b[0m\u001b[0;34m(\u001b[0m\u001b[0;34m)\u001b[0m\u001b[0;34m\u001b[0m\u001b[0m\n\u001b[0m\u001b[1;32m    257\u001b[0m             \u001b[0mt2\u001b[0m \u001b[0;34m=\u001b[0m \u001b[0mtime\u001b[0m\u001b[0;34m.\u001b[0m\u001b[0mprocess_time\u001b[0m\u001b[0;34m(\u001b[0m\u001b[0;34m)\u001b[0m\u001b[0;34m\u001b[0m\u001b[0m\n\u001b[1;32m    258\u001b[0m             \u001b[0mprint\u001b[0m\u001b[0;34m(\u001b[0m\u001b[0;34m'Time = {} seconds'\u001b[0m\u001b[0;34m.\u001b[0m\u001b[0mformat\u001b[0m\u001b[0;34m(\u001b[0m\u001b[0mt2\u001b[0m \u001b[0;34m-\u001b[0m \u001b[0mt1\u001b[0m\u001b[0;34m)\u001b[0m\u001b[0;34m)\u001b[0m\u001b[0;34m\u001b[0m\u001b[0m\n",
      "\u001b[0;32m~/Dropbox/code/radvel-search/rvsearch/periodogram.py\u001b[0m in \u001b[0;36mper_bic\u001b[0;34m(self)\u001b[0m\n\u001b[1;32m    134\u001b[0m         \u001b[0;31m#Allow amplitude and time offset to vary, fix eccentricity and period. Fix all ecc.s for speed\u001b[0m\u001b[0;34m\u001b[0m\u001b[0;34m\u001b[0m\u001b[0m\n\u001b[1;32m    135\u001b[0m         \u001b[0;32mfor\u001b[0m \u001b[0mplanet\u001b[0m \u001b[0;32min\u001b[0m \u001b[0mnp\u001b[0m\u001b[0;34m.\u001b[0m\u001b[0marange\u001b[0m\u001b[0;34m(\u001b[0m\u001b[0;36m1\u001b[0m\u001b[0;34m,\u001b[0m \u001b[0mself\u001b[0m\u001b[0;34m.\u001b[0m\u001b[0mnum_known_planets\u001b[0m\u001b[0;34m+\u001b[0m\u001b[0;36m2\u001b[0m\u001b[0;34m)\u001b[0m\u001b[0;34m:\u001b[0m\u001b[0;34m\u001b[0m\u001b[0m\n\u001b[0;32m--> 136\u001b[0;31m             \u001b[0mself\u001b[0m\u001b[0;34m.\u001b[0m\u001b[0mpost\u001b[0m\u001b[0;34m.\u001b[0m\u001b[0mparams\u001b[0m\u001b[0;34m[\u001b[0m\u001b[0;34m'secosw{}'\u001b[0m\u001b[0;34m.\u001b[0m\u001b[0mformat\u001b[0m\u001b[0;34m(\u001b[0m\u001b[0mplanet\u001b[0m\u001b[0;34m)\u001b[0m\u001b[0;34m]\u001b[0m\u001b[0;34m.\u001b[0m\u001b[0mvary\u001b[0m \u001b[0;34m=\u001b[0m \u001b[0;32mFalse\u001b[0m\u001b[0;34m\u001b[0m\u001b[0m\n\u001b[0m\u001b[1;32m    137\u001b[0m             \u001b[0mself\u001b[0m\u001b[0;34m.\u001b[0m\u001b[0mpost\u001b[0m\u001b[0;34m.\u001b[0m\u001b[0mparams\u001b[0m\u001b[0;34m[\u001b[0m\u001b[0;34m'sesinw{}'\u001b[0m\u001b[0;34m.\u001b[0m\u001b[0mformat\u001b[0m\u001b[0;34m(\u001b[0m\u001b[0mplanet\u001b[0m\u001b[0;34m)\u001b[0m\u001b[0;34m]\u001b[0m\u001b[0;34m.\u001b[0m\u001b[0mvary\u001b[0m \u001b[0;34m=\u001b[0m \u001b[0;32mFalse\u001b[0m\u001b[0;34m\u001b[0m\u001b[0m\n\u001b[1;32m    138\u001b[0m \u001b[0;34m\u001b[0m\u001b[0m\n",
      "\u001b[0;31mKeyError\u001b[0m: 'secosw1'"
     ]
    }
   ],
   "source": [
    "s.run_search()"
   ]
  },
  {
   "cell_type": "code",
   "execution_count": null,
   "metadata": {
    "collapsed": true
   },
   "outputs": [],
   "source": []
  }
 ],
 "metadata": {
  "kernelspec": {
   "display_name": "Python 3",
   "language": "python",
   "name": "python3"
  },
  "language_info": {
   "codemirror_mode": {
    "name": "ipython",
    "version": 3
   },
   "file_extension": ".py",
   "mimetype": "text/x-python",
   "name": "python",
   "nbconvert_exporter": "python",
   "pygments_lexer": "ipython3",
   "version": "3.6.3"
  }
 },
 "nbformat": 4,
 "nbformat_minor": 2
}
