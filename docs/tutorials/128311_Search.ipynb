{
 "cells": [
  {
   "cell_type": "markdown",
   "metadata": {},
   "source": [
    "# 128311 Blind search\n",
    "\n",
    "We demonstrate how to conduct a blind search in pre- and post-uprade-separate HIRES data. NOTE: If notebook is not working, can just open iPython, import rvsearch.search and rvsearch.utils, and run the search with the 3 commands below."
   ]
  },
  {
   "cell_type": "code",
   "execution_count": 3,
   "metadata": {},
   "outputs": [],
   "source": [
    "import os\n",
    "\n",
    "import rvsearch\n",
    "from rvsearch import search, utils"
   ]
  },
  {
   "cell_type": "markdown",
   "metadata": {},
   "source": [
    "- Load the data and initialize the search object.\n",
    "- Bin data within 12 hours, and search down to 10 days."
   ]
  },
  {
   "cell_type": "code",
   "execution_count": 4,
   "metadata": {},
   "outputs": [],
   "source": [
    "data = utils.read_from_csv(os.path.join(rvsearch.DATADIR, 'HD128311.csv'), binsize=0.5)\n",
    "searcher = search.Search(data, starname='128311', min_per=10, \n",
    "                         workers=1, mcmc=True, verbose=True)"
   ]
  },
  {
   "cell_type": "markdown",
   "metadata": {},
   "source": [
    "Run search on a single core. In general, you'll want to allocate more CPUs for the search, but multi-threading within the Jupyter notebook environment is buggy. Run MCMC after search is done (default). With our current configuration, outputs will be saved in in the current working directory. Will save periodogram for each successive search, orbit plots, and corner plot."
   ]
  },
  {
   "cell_type": "code",
   "execution_count": null,
   "metadata": {
    "raw_mimetype": "text/restructuredtext"
   },
   "outputs": [],
   "source": [
    "searcher.run_search()"
   ]
  }
 ],
 "metadata": {
  "celltoolbar": "Raw Cell Format",
  "kernelspec": {
   "display_name": "Python 3",
   "language": "python",
   "name": "python3"
  },
  "language_info": {
   "codemirror_mode": {
    "name": "ipython",
    "version": 3
   },
   "file_extension": ".py",
   "mimetype": "text/x-python",
   "name": "python",
   "nbconvert_exporter": "python",
   "pygments_lexer": "ipython3",
   "version": "3.6.8"
  }
 },
 "nbformat": 4,
 "nbformat_minor": 2
}
